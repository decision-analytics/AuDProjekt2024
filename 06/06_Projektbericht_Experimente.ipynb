{
 "cells": [
  {
   "cell_type": "markdown",
   "metadata": {
    "slideshow": {
     "slide_type": "slide"
    }
   },
   "source": [
    "\n",
    "<img src=\"img/logo_wiwi.png\" width=\"25%\" align=\"left\">\n",
    "\n",
    "<img src=\"img/decision_analytics_logo.png\" width=\"17%\" align=\"right\">\n",
    "\n",
    "\n",
    "\n",
    "<br><br><br><br><br><br><br><br>\n",
    "\n",
    "\n",
    "\n",
    "# Algorithmen und Datenstrukturen(A+D)-Projekt \n",
    "\n",
    "**Sommersemester 2023**\n",
    "\n",
    "\n",
    "# 6. Informationen zum Projektbericht, Durchführen von Experimenten\n",
    "\n",
    "<br>\n",
    "\n",
    "<br>\n",
    "<br>\n",
    "\n",
    "**J-Prof. Dr. Michael Römer, Jakob Schulte**\n",
    "\n",
    "Juniorprofessur für Decision Analytics  | Universität Bielefeld"
   ]
  },
  {
   "cell_type": "markdown",
   "metadata": {
    "slideshow": {
     "slide_type": "slide"
    }
   },
   "source": [
    "## Teil 1: Projektbericht\n",
    "\n",
    "- Organisatorisches\n",
    "- Projektbericht:\n",
    "    - Formatierung\n",
    "    - Inhalte\n",
    "    - Aufbau\n",
    "- Raum für Fragen\n"
   ]
  },
  {
   "cell_type": "markdown",
   "metadata": {
    "slideshow": {
     "slide_type": "slide"
    }
   },
   "source": [
    "# Organisatorisches"
   ]
  },
  {
   "cell_type": "markdown",
   "metadata": {
    "slideshow": {
     "slide_type": "slide"
    }
   },
   "source": [
    "## Weitere Termine\n",
    "\n",
    "\n",
    "- **Di, 09.07.2024:** Abschlusspräsentationen\n",
    "- **Fr, 05.07.2024:** Abgabe Projektberichte"
   ]
  },
  {
   "cell_type": "markdown",
   "metadata": {
    "slideshow": {
     "slide_type": "slide"
    }
   },
   "source": [
    "## Prüfungsleistung\n",
    "\n",
    "\n",
    "\n",
    "\n",
    "Formale Prüfungsleistung ist der **Projektbericht**\n",
    "- wird von der Gruppe gemeinsam erstellt\n",
    "- als Anlage: kurze Beschreibung der Beiträge der einzelnen Teilnehmer*innen\n",
    "- Umfang: ca 20-30 Seiten pro Gruppe\n",
    "\n",
    "\n",
    "Wir behalten uns vor, Einzelgespräche mit Gruppenmitgliedern zu führen, wenn wir den Eindruck haben, dass eine eine Binnendifferenzierung in einer Gruppe angezeigt ist."
   ]
  },
  {
   "cell_type": "markdown",
   "metadata": {
    "slideshow": {
     "slide_type": "slide"
    }
   },
   "source": [
    "# Projektbericht"
   ]
  },
  {
   "cell_type": "markdown",
   "metadata": {
    "slideshow": {
     "slide_type": "slide"
    }
   },
   "source": [
    "## Projektbericht: Formatierung\n",
    "\n",
    "**Formatierung:**\n",
    "- Wir stellen im Moodle Formatvorlagen in folgenden Formaten bereit:\n",
    "  - LaTeX (kann z.B. in Overleaf bearbeitet werden)\n",
    "  - .docx (kann z.B. in Microsoft Word oder LibreOffice bearbeitet werden)\n",
    "- diese sind ursprünglich für Seminar- und Abschlussarbeiten erstellt worden, können hier aber auch verwendet werden\n",
    "- stellen sicher, dass Zeilenabstände, Seitenränder etc. passen \n",
    "- geben Hinweise zur Gestaltung von Überschriften, Inhaltsverzeichnis, Beschriftung von Abbildungen etc.\n"
   ]
  },
  {
   "cell_type": "markdown",
   "metadata": {
    "slideshow": {
     "slide_type": "slide"
    }
   },
   "source": [
    "## Projektbericht: Inhalte\n",
    "\n",
    "**Beschreibung des Optimierungsproblems**\n",
    "- Beschreiben Sie das Problem\n",
    "- ggf. mit kleinen Beispielen und Abbildungen\n",
    "  - auf diese können Sie sich dann auch in der Erlärung der Algorithmen beziehen\n",
    "\n",
    "**dabei: Literatur**\n",
    "- der Projektbericht ist keine Seminarar- oder Abschlussarbeit - der Anspruch an die Literaturarbeit ist geringer\n",
    "- beachten Sie: Sie bearbeiten sehr bekannte und vielfach untersuchte Probleme, d.h. es gibt sehr viel Literatur \n",
    "  - es ist nicht nötig, einen kompletten Literaturüberblick zu geben\n",
    "- interessant wäre es allerdings, zu diskutieren:\n",
    "  - wie groß sind Instanzen, die heute optimal gelöst werden können?\n",
    "  - welche Algorithmen können das (Sie müssen diese nicht komplett verstehen, Nennung reicht)\n",
    "\n"
   ]
  },
  {
   "cell_type": "markdown",
   "metadata": {
    "slideshow": {
     "slide_type": "slide"
    }
   },
   "source": [
    "## Projektbericht: Inhalte\n",
    "\n",
    "**Erklärung der Algorithmen**\n",
    "Bitte Erläutern Sie die wesentlichen (Varianten von) Algorithmen, die Sie entwickelt haben\n",
    "- versuchen Sie, diese zu charakterisieren mit den Begriffen aus der Veranstaltung (Greedy, Rollout, etc.) \n",
    "- oder ggf. mit Begriffen aus der Literatur (z.B. falls Sie bestimmte bekannte Greedy-Kriterien oder Prioritätsregeln verwenden)\n",
    "\n",
    "**Algorithmen können auf verschiedene Arten dargestellt werden**\n",
    "- (Ablauf)-Diagramme\n",
    "- Pseudocode\n",
    "- Python-Code\n",
    "\n",
    "**Bitte beachten Sie:**\n",
    "- stellen Sie möglichst nur die Kernlogik dar und lagern Sie kleinere Schritte in Funktionen aus (die ggf. gesondert dargestellt werden)\n",
    "- erläutern Sie die Algorithmen im Text\n",
    "\n"
   ]
  },
  {
   "cell_type": "markdown",
   "metadata": {
    "slideshow": {
     "slide_type": "slide"
    }
   },
   "source": [
    "## Projektbericht: Inhalte\n",
    "\n",
    "**Resultate der durchgeführten Experimente**\n",
    "\n",
    "- interessant sind vor allem Vergleiche in Bezug auf Laufzeit und Lösungsgüte (Zielfunktion)\n",
    "  - zwischen von Ihnen entwickelten Varianten (welche Verbesserung wird wodurch erzielt)\n",
    "    - berichten Sie auch, ob und ggf. warum bestimmte Ansätze nicht (so gut) funktioniert haben\n",
    "  - falls vorhanden: Abstände zur optimalen Lösungen\n",
    "  - falls vorhanden: Vergleich mit existierenden Implementierungen von Heuristiken\n",
    "\n",
    "- führen Sie Experimente mit mehreren Instanzen durch\n",
    "  - berichten Sie dann entweder aggregierte Werte, Einzelwerte oder ggf. beides\n",
    "\n",
    "\n",
    "- siehe unten für Techniken zur strukturierten Durchführung von Experimenten\n",
    "\n",
    "**Zusammenfassung**\n",
    "- Zusammenfassung der Ergebnisse des Projekts\n",
    "- ggf. Ausblick auf mögliche Erweiterungen, die Ihnen viel versprechend erscheinen"
   ]
  },
  {
   "cell_type": "markdown",
   "metadata": {
    "slideshow": {
     "slide_type": "slide"
    }
   },
   "source": [
    "## Projektbericht: Beispielhafter Aufbau\n",
    "\n",
    "Dieser Aufbau ist nur ein Beispiel zur Orientierung. Der tatsächliche Aufbau des Berichts darf davon abweichen.\n",
    "\n",
    "\n",
    "1. **Einleitung**\n",
    "\n",
    "\n",
    "2. **Literatur** \n",
    "\n",
    "\n",
    "3. **Algorithmen** \n",
    "\n",
    "\n",
    "4. **Experimente / Ergebnisse**\n",
    "\n",
    "\n",
    "5. **Fazit**"
   ]
  },
  {
   "cell_type": "markdown",
   "metadata": {
    "slideshow": {
     "slide_type": "slide"
    }
   },
   "source": [
    "## Projektbericht: Beispielhafter Aufbau\n",
    "\n",
    "\n",
    "**Einleitung (ca. 1-5 Seiten):**\n",
    "\n",
    "Beschreibung des Problems, Abgrenzung zu ähnlichen Problemstellungen, Anwendungsbeispiele, Aufbau Projektbericht\n",
    "\n",
    "<br>\n",
    "\n",
    "**Literatur (ca. 1-4 Seiten):**\n",
    "\n",
    "Aufarbeitung von relevanter Literatur\n",
    "\n",
    "<br>\n",
    "\n",
    "**Algorithmen (ca. 5-15 Seiten):**\n",
    "\n",
    "Detaillierte Erklärung der entwickelten und genutzten Algorithmen\n",
    "\n",
    "<br>\n",
    "\n",
    "**Experimente / Ergebnisse (ca. 2-10 Seiten):**\n",
    "\n",
    "Darstellung und Auswertung der Ergebnisse von Experimenten\n",
    "\n",
    "<br>\n",
    "\n",
    "**Fazit (ca. 1-3 Seiten):**\n",
    "\n",
    "Zusammenfassung, Darstellung von potentiellen nächsten Schritten"
   ]
  },
  {
   "cell_type": "markdown",
   "metadata": {
    "slideshow": {
     "slide_type": "slide"
    }
   },
   "source": [
    "# Raum für Fragen"
   ]
  },
  {
   "cell_type": "code",
   "execution_count": 5,
   "metadata": {
    "slideshow": {
     "slide_type": "skip"
    }
   },
   "outputs": [],
   "source": [
    "import matplotlib.pyplot as plt\n",
    "import numpy as np\n",
    "import pandas as pd\n",
    "from numba import njit"
   ]
  },
  {
   "cell_type": "markdown",
   "metadata": {
    "slideshow": {
     "slide_type": "slide"
    }
   },
   "source": [
    "# Teil 2: Experimente\n"
   ]
  },
  {
   "cell_type": "markdown",
   "metadata": {
    "slideshow": {
     "slide_type": "slide"
    }
   },
   "source": [
    "## Teil 2: Experimente\n",
    "\n",
    "**Wir betrachten ein paar hilfreiche Techniken für das Durchführen und Auswerten von Experimenten mit Algorithmen**\n",
    "\n",
    "- Aufrufen mehrerer Instanzen und Algorithmen\n",
    "- Datenstrukturen für Ergebnisse\n",
    "- Aufbereiten der Ergebnisse mit `data frames`\n",
    "- Speichern von Ergebnissen in Dateien\n",
    "- Auslesen von Ergebnissen aus Dateien\n",
    "\n",
    "\n",
    "**Bitte beachten Sie:**\n",
    "\n",
    "Diese Materialien sollen Ihnen anhand von Beispielen einige Techniken zeigen, wie man Experimente durchführen kann und Ergebnisse sammel und aufbereiten kann.\n",
    "\n",
    "Sie können natürlich in Ihrem Projekt auch anders vorgehen.\n",
    "\n",
    "\n"
   ]
  },
  {
   "cell_type": "markdown",
   "metadata": {
    "slideshow": {
     "slide_type": "slide"
    }
   },
   "source": [
    "# Rückblick: Algorithmen für das TSP\n",
    "\n"
   ]
  },
  {
   "cell_type": "markdown",
   "metadata": {
    "slideshow": {
     "slide_type": "slide"
    }
   },
   "source": [
    "## Das TSP als Beispiel\n",
    "\n",
    "Für das TSP haben wir \n",
    "- für viele Instanzen optimale Zielfunktionswerte: http://comopt.ifi.uni-heidelberg.de/software/TSPLIB95/STSP.html\n",
    "- das Python-Paket `python-tsp`, mit dem wir unsere Algorithmen vergleichen können (https://github.com/fillipe-gsm/python-tsp)\n",
    "- einige Algorithmen implementiert\n",
    "  - Nearest Neighbor\n",
    "  - Multistart Nearest Neighbor\n",
    "  - Informierter Greedy mit Rollout als heuristischer Funktion\n",
    "  - Beam Search (mit unterschiedlichen Breiten)\n",
    "  - Informiertes Beam Search (mit unterschiedlichen Breiten und limitierter Anwendung der Heuristik)"
   ]
  },
  {
   "cell_type": "markdown",
   "metadata": {
    "slideshow": {
     "slide_type": "slide"
    }
   },
   "source": [
    "**Wie können wir**\n",
    "- sinnvoll mit mehreren (z.B. > 10) Instanzen experimentieren?\n",
    "- die Ergebnisse in Dateien speichern und aufbereiten?"
   ]
  },
  {
   "cell_type": "markdown",
   "metadata": {
    "slideshow": {
     "slide_type": "slide"
    }
   },
   "source": [
    "# Code mit unseren bisherigen Algorithmen / Varianten"
   ]
  },
  {
   "cell_type": "code",
   "execution_count": 6,
   "metadata": {
    "slideshow": {
     "slide_type": "-"
    }
   },
   "outputs": [],
   "source": [
    "def select_nearest_neighbor(distance_matrix, tour):\n",
    "    \n",
    "    # node ist der letzte Knoten der tour\n",
    "    node = tour[-1]\n",
    "    \n",
    "    smallest_distance = 9999999999 ## grosser Wert\n",
    "    nearest_neighbor = 0\n",
    "    \n",
    "    alle_knoten = range(len(distance_matrix))\n",
    "    \n",
    "    #Anzahl an Knoten = Dimension der Distanzmatrix\n",
    "    for neighbor in alle_knoten:\n",
    "        \n",
    "        if neighbor in tour: # bereits besuchte Knoten werden nicht berücksichtigt\n",
    "            continue\n",
    "            \n",
    "        if distance_matrix[node][neighbor] < smallest_distance:\n",
    "            nearest_neighbor = neighbor\n",
    "            smallest_distance = distance_matrix[node][neighbor]            \n",
    "       \n",
    "    return nearest_neighbor, smallest_distance "
   ]
  },
  {
   "cell_type": "markdown",
   "metadata": {
    "slideshow": {
     "slide_type": "slide"
    }
   },
   "source": [
    "## Implementierung des Nearest-Neighbor-Algorithmus\n",
    "\n",
    "- beachte: der zweite Parameter ist die eine ein-elementige Liste (die den Startknoten enthält)"
   ]
  },
  {
   "cell_type": "code",
   "execution_count": 7,
   "metadata": {
    "slideshow": {
     "slide_type": "-"
    }
   },
   "outputs": [],
   "source": [
    " \n",
    "def tsp_nearest_neighbor(distance_matrix, tour):\n",
    "    \n",
    "    total_distance = 0\n",
    "    \n",
    "    #solange die sequenz noch nicht alle Knoten umfasst\n",
    "    while len(tour) < len(distance_matrix):\n",
    "        \n",
    "        node, distance = select_nearest_neighbor(distance_matrix, tour)\n",
    "        \n",
    "        tour.append(node)\n",
    "        \n",
    "        total_distance += distance\n",
    "        \n",
    "    total_distance += distance_matrix[tour[-1], tour[0]]\n",
    "    return tour, total_distance\n"
   ]
  },
  {
   "cell_type": "markdown",
   "metadata": {
    "slideshow": {
     "slide_type": "slide"
    }
   },
   "source": [
    "## Eine Routine zum Evaluieren einer Lösung\n",
    "\n",
    "- immer wenn man nicht-triviale Algorithmen für Optimierungsprobleme entwickelt, sollte man einen \"Solution-Checker\" schreiben / nutzen"
   ]
  },
  {
   "cell_type": "markdown",
   "metadata": {
    "slideshow": {
     "slide_type": "-"
    }
   },
   "source": [
    "><div class=\"alert alert-block alert-info\">\n",
    "<b>Was ist im Fall des TSP zu prüfen?</b></div>  \n"
   ]
  },
  {
   "cell_type": "markdown",
   "metadata": {
    "slideshow": {
     "slide_type": "slide"
    }
   },
   "source": [
    "**Im Fall des TSP gilt es:**\n",
    "- zu prüfen, ob\n",
    "  - die Lösung die Richtige Anzahl an Knoten enthält\n",
    "  - dass es sich bei der Lösung tatsächlich um eine Permutation der Indizes handelt (kein Index kommt zweimal vor)\n",
    "- die Distanz der Tour zu berechnen"
   ]
  },
  {
   "cell_type": "code",
   "execution_count": 8,
   "metadata": {
    "slideshow": {
     "slide_type": "-"
    }
   },
   "outputs": [],
   "source": [
    "def evaluate_tsp_solution(distance_matrix, tour):\n",
    "    n = len(distance_matrix)\n",
    "    if len(tour) != n:\n",
    "        print (\"Wrong number of nodes\")\n",
    "        return -1\n",
    "    \n",
    "     # Menge der Lösungsindizes muss = der Menge der Indizes von 0 bis n-1 sein\n",
    "    if set(tour) != set(range(n)):\n",
    "        print (\"Not a proper tour!\")\n",
    "        return  -1\n",
    "    \n",
    "    total_distance = 0\n",
    "    for i in range(n):\n",
    "        if i < n-1:\n",
    "            total_distance += distance_matrix[tour[i],tour[i+1]]\n",
    "        else:\n",
    "            total_distance += distance_matrix[tour[i],tour[0]]   \n",
    "            \n",
    "    return total_distance    "
   ]
  },
  {
   "cell_type": "markdown",
   "metadata": {
    "slideshow": {
     "slide_type": "fragment"
    }
   },
   "source": [
    "...probieren wir es aus:"
   ]
  },
  {
   "cell_type": "markdown",
   "metadata": {
    "slideshow": {
     "slide_type": "slide"
    }
   },
   "source": [
    "## Erweiterung: Evaluation zum Überprüfen einer gegebenen Distanz\n",
    "\n",
    "- oftmals ist es nützlich, in einer Funktion direkt die vom Algorithmus berechnete Distanz zu prüfen\n",
    "- folgende Funktion macht eine entsprechende Ergebnisausgabe:\n"
   ]
  },
  {
   "cell_type": "code",
   "execution_count": 9,
   "metadata": {
    "slideshow": {
     "slide_type": "slide"
    }
   },
   "outputs": [],
   "source": [
    "def print_obj_and_eval_tsp_solution(distance_matrix, tour, distance):\n",
    "    \n",
    "    eval_distance = evaluate_tsp_solution(distance_matrix, tour)\n",
    "    \n",
    "    if distance == eval_distance:\n",
    "        print (\"Solution feasible, distance is: \", distance)\n",
    "    elif eval_distance < 0:\n",
    "        print(\"Solution infeasible\")\n",
    "    else: \n",
    "        print(\"Solution feasible, wrong distance: \", distance, \" evaluation gave \", eval_distance)"
   ]
  },
  {
   "cell_type": "markdown",
   "metadata": {
    "slideshow": {
     "slide_type": "fragment"
    }
   },
   "source": [
    "...probien wir es aus:"
   ]
  },
  {
   "cell_type": "code",
   "execution_count": 10,
   "metadata": {},
   "outputs": [],
   "source": [
    "#!pip install python-tsp\n",
    "#!npx degit decision-analytics/AuDProjekt2024/instances -f"
   ]
  },
  {
   "cell_type": "markdown",
   "metadata": {
    "slideshow": {
     "slide_type": "slide"
    }
   },
   "source": [
    "## Das Python-Paket `python-tsp` testen\n",
    "\n",
    "- TSP-Instanzen einlesen"
   ]
  },
  {
   "cell_type": "code",
   "execution_count": 11,
   "metadata": {
    "slideshow": {
     "slide_type": "-"
    }
   },
   "outputs": [],
   "source": [
    "from python_tsp.distances import tsplib_distance_matrix\n",
    "\n",
    "# Lokale Installation\n",
    "instances_path = \"./../instances/tsp/\" \n",
    "\n",
    "#Im Fall von Colab (oder lokal im selben Ordner wie Notebook):\n",
    "\n",
    "#instances_path = \"./tsp/\" \n",
    "\n",
    "#instance_name = \"a280.tsp\" # optimale Lösung 2579 (lt. http://comopt.ifi.uni-heidelberg.de/software/TSPLIB95/STSP.html)\n",
    "#instance_name = \"brazil58.tsp\" # optimale Lösung 25395 (lt. http://comopt.ifi.uni-heidelberg.de/software/TSPLIB95/STSP.html)\n",
    "instance_name = \"berlin52.tsp\" # optimale Lösung 7542 (lt. http://comopt.ifi.uni-heidelberg.de/software/TSPLIB95/STSP.html)\n",
    "\n",
    "\n",
    "tsplib_file = instances_path+instance_name \n",
    "\n",
    "## Hilfsfunktion aus dem Paket python-tsp\n",
    "distance_matrix = tsplib_distance_matrix(tsplib_file)\n",
    "\n"
   ]
  },
  {
   "cell_type": "markdown",
   "metadata": {
    "slideshow": {
     "slide_type": "fragment"
    }
   },
   "source": [
    " - heuristische TSP-Algorithmen:"
   ]
  },
  {
   "cell_type": "code",
   "execution_count": 12,
   "metadata": {
    "slideshow": {
     "slide_type": "-"
    }
   },
   "outputs": [],
   "source": [
    "from python_tsp.heuristics import solve_tsp_local_search, solve_tsp_simulated_annealing"
   ]
  },
  {
   "cell_type": "markdown",
   "metadata": {
    "slideshow": {
     "slide_type": "fragment"
    }
   },
   "source": [
    "- exakte TSP-Algorithmen basierend auf Enumeration und dynamischer Programmierung\n",
    "  - (vorsicht: dauert wahrscheinlich lange mit Instanzen > 10 Items)\n",
    "  "
   ]
  },
  {
   "cell_type": "code",
   "execution_count": 13,
   "metadata": {
    "slideshow": {
     "slide_type": "-"
    }
   },
   "outputs": [],
   "source": [
    "from python_tsp.exact import solve_tsp_dynamic_programming\n",
    "\n",
    "#tour, distance = solve_tsp_dynamic_programming(distance_matrix_21)\n",
    "\n",
    "#distance"
   ]
  },
  {
   "cell_type": "markdown",
   "metadata": {
    "slideshow": {
     "slide_type": "slide"
    }
   },
   "source": [
    "## Wie gut ist Greedy / Nearest Neighbor?\n",
    "\n",
    "Wie gut ist im Vergleich unser Nearest-Neigbor-Verfahren?"
   ]
  },
  {
   "cell_type": "markdown",
   "metadata": {
    "slideshow": {
     "slide_type": "slide"
    }
   },
   "source": [
    "## Erste Verbesserungsidee: Multi-Start-Greedy\n",
    "\n",
    "- das Ergebnis der Greedy-Heuristik ist offenbar nicht sehr gut\n",
    "- **aber:** die Greedy-Heuristik ist schnell - es ist nicht teuer, sie aufzurufen\n",
    "  - dies kann man nutzen, um verbesserte Heuristiken \"um Greedy-Vefahren herum\" zu bauen\n",
    "\n",
    "**Erste einfache Idee: Starte Greedy mit verschiedenen (allen) Startknoten** \n",
    "- die Nearest-Neighbor-Heuristik hat für unterschiedliche Startpunkte unterschiedliche Werte\n",
    "\n"
   ]
  },
  {
   "cell_type": "markdown",
   "metadata": {
    "slideshow": {
     "slide_type": "slide"
    }
   },
   "source": [
    "# Beschleunigung durch Just-In-Time Compilation mit numba"
   ]
  },
  {
   "cell_type": "markdown",
   "metadata": {
    "slideshow": {
     "slide_type": "slide"
    }
   },
   "source": [
    "##  Beschleunigung durch Just-In-Time Compilation mit `numba`\n",
    "\n",
    "#### Wir sehen: Schon ein Multi-Start-Ansatz kann mehrere Sekunden dauern!\n",
    "\n",
    "- schon bei einer Instanzgröße von 280 kann ein Multistart-Greedy eine Weile dauern\n",
    "- das liegt zu erheblichen Teilen daran, dass Python eine \"langsame\" Sprache ist:\n",
    "  - Python-Code wird während der Ausührung *interpretiert*\n",
    "  - bei \"schnelleren\" Sprachen wird der Code vor der Ausführung *kompiliert*, d.h. in effizienten Maschinencode übersetzt"
   ]
  },
  {
   "cell_type": "markdown",
   "metadata": {
    "slideshow": {
     "slide_type": "fragment"
    }
   },
   "source": [
    "#### Hier setzt das Paket `numba` (https://numba.pydata.org/) an:\n",
    "\n",
    "- `numba`macht eine so genannte *just-in-time compilation*, d.h. es *kompiliert* den Python-Code vor der Ausführung \n",
    "- Numba ist spezialisiert auf numpy-basierten Code und unterstützt nur einen Teil des Sprachumfangs von Python\n",
    "\n",
    "\n",
    "- einfachstes Vorgehen: Einfügen des so genannten *decorators* `@njit` über der Definition einer Funktion"
   ]
  },
  {
   "cell_type": "markdown",
   "metadata": {
    "slideshow": {
     "slide_type": "slide"
    }
   },
   "source": [
    "##  Beschleunigung durch Just-In-Time Compilation mit `numba`\n",
    "\n",
    "**Beachte bei der Laufzeitmessung:**\n",
    "- beim ersten Ausführen wird die Funktion kompiliert, daher dauert die erste Ausführung oftmals etwas länger!\n",
    "\n",
    "\n",
    "**Warnung:**\n",
    "- Numba kann Code zwar sehr schnell machen,\n",
    "- wenn etwas nicht funktioniert, kann die die Fehlersuche aber auch sehr schwierig sein\n",
    "\n",
    "**Wichtig:**\n",
    "- wenn Sie eine Funktion mit Numba kompilieren möchten, so müssen **alle aufgerufenen Funktionen** ebenfalls mit Numba kompiliert worden sein!\n",
    "   - Bsp TSP: Wenn Sie Numba für den Nearest Neighbor-Code nutzen möchten, so muss auch die `select`-Funktion mit Numba kompiliert werden\n"
   ]
  },
  {
   "cell_type": "code",
   "execution_count": 14,
   "metadata": {
    "slideshow": {
     "slide_type": "-"
    }
   },
   "outputs": [],
   "source": [
    "from numba import njit, jit\n",
    "from numba.typed import List\n",
    "\n",
    "from numba.core.errors import NumbaDeprecationWarning, NumbaPendingDeprecationWarning\n",
    "import warnings\n",
    "\n",
    "warnings.simplefilter('ignore', category=NumbaDeprecationWarning)\n",
    "warnings.simplefilter('ignore', category=NumbaPendingDeprecationWarning)"
   ]
  },
  {
   "cell_type": "markdown",
   "metadata": {
    "slideshow": {
     "slide_type": "slide"
    }
   },
   "source": [
    "## Numba für das TSP (I): select_nearest_neighbor\n",
    "\n",
    "- wir nutzen unsere Funktionen von oben nun mit Numba\n",
    "- wir lassen die Namen einfach gleich, d.h. wir \"überschreiben\" die alten Funktionen"
   ]
  },
  {
   "cell_type": "code",
   "execution_count": 15,
   "metadata": {
    "slideshow": {
     "slide_type": "-"
    }
   },
   "outputs": [],
   "source": [
    "@njit\n",
    "def select_nearest_neighbor(distance_matrix, tour):\n",
    "       \n",
    "    smallest_distance = 9999999999 ## grosser Wert\n",
    "    nearest_neighbor = 0\n",
    "    node = tour[-1]\n",
    "    \n",
    "    #Anzahl an Knoten = Dimension der Distanzmatrix\n",
    "    for neighbor in range(len(distance_matrix)):\n",
    "        if neighbor in tour:\n",
    "            continue\n",
    "            \n",
    "        if distance_matrix[node][neighbor] < smallest_distance:\n",
    "            nearest_neighbor = neighbor\n",
    "            smallest_distance = distance_matrix[node][neighbor]            \n",
    "       \n",
    "    return nearest_neighbor, smallest_distance \n",
    "\n"
   ]
  },
  {
   "cell_type": "markdown",
   "metadata": {
    "slideshow": {
     "slide_type": "slide"
    }
   },
   "source": [
    "## Numba für das TSP (II): tsp_nearest_neighbor\n"
   ]
  },
  {
   "cell_type": "code",
   "execution_count": 16,
   "metadata": {
    "slideshow": {
     "slide_type": "-"
    }
   },
   "outputs": [],
   "source": [
    "@njit\n",
    "def tsp_nearest_neighbor(distance_matrix, tour):\n",
    "    \n",
    "    total_distance = 0\n",
    "    \n",
    "    #solange die sequenz noch nicht alle Knoten umfasst\n",
    "    while len(tour) < len(distance_matrix):\n",
    "        \n",
    "        node, distance = select_nearest_neighbor(distance_matrix, tour)\n",
    "        \n",
    "        tour.append(node)\n",
    "        total_distance += distance\n",
    "        \n",
    "    total_distance += distance_matrix[tour[-1]][tour[0]]\n",
    "    return tour, total_distance\n"
   ]
  },
  {
   "cell_type": "markdown",
   "metadata": {
    "slideshow": {
     "slide_type": "slide"
    }
   },
   "source": [
    "## Numba für das TSP (III): nearest_neighbor_multi_start\n"
   ]
  },
  {
   "cell_type": "code",
   "execution_count": 17,
   "metadata": {
    "slideshow": {
     "slide_type": "-"
    }
   },
   "outputs": [],
   "source": [
    "@njit\n",
    "def tsp_nearest_neighbor_multi_start(distance_matrix):\n",
    "    best_distance = 999999\n",
    "    best_tour = None\n",
    "    for start_node in range(len(distance_matrix)):\n",
    "        tour, distance = tsp_nearest_neighbor(distance_matrix, [start_node])\n",
    "        if distance < best_distance:\n",
    "            best_distance = distance\n",
    "            best_tour = tour         \n",
    "\n",
    "    return best_tour, best_distance  "
   ]
  },
  {
   "cell_type": "markdown",
   "metadata": {
    "slideshow": {
     "slide_type": "slide"
    }
   },
   "source": [
    "# Greedy, etwas formalisiert"
   ]
  },
  {
   "cell_type": "markdown",
   "metadata": {
    "slideshow": {
     "slide_type": "slide"
    }
   },
   "source": [
    "## Rollout für das TSP"
   ]
  },
  {
   "cell_type": "markdown",
   "metadata": {
    "slideshow": {
     "slide_type": "slide"
    }
   },
   "source": [
    "## Implementierung der Rollout-Idee in Python\n",
    "- was müssen wir beachten, damit wir den nearest neighbor-Code für Rollout nutzen können?"
   ]
  },
  {
   "cell_type": "markdown",
   "metadata": {
    "slideshow": {
     "slide_type": "slide"
    }
   },
   "source": [
    "## Implementierung der Rollout-Idee in Python\n",
    "- die Auswahl des Knotens:"
   ]
  },
  {
   "cell_type": "code",
   "execution_count": 18,
   "metadata": {
    "slideshow": {
     "slide_type": "-"
    }
   },
   "outputs": [],
   "source": [
    "@njit\n",
    "def select_using_rollout_nn(tour, distance_matrix):\n",
    "    \n",
    "    node = tour[len(tour)-1] \n",
    "    best_estimated_value = 1000000\n",
    "    best_node = node        \n",
    "        \n",
    "    for next_node in range(len(distance_matrix)):\n",
    "        if next_node in tour: \n",
    "            continue            \n",
    "        # _, heißt, dass wir den ersten Rückgabewert ignorieren\n",
    "        \n",
    "        # Berechne die NN-Länge der Rest-Tour von next_node aus\n",
    "        _, nn_value = tsp_nearest_neighbor(distance_matrix, tour + [next_node])\n",
    "        \n",
    "                         # g(x_k, u_k)                    + J~ (f(x_k, u_k))\n",
    "        estimated_value = distance_matrix[node,next_node] + nn_value\n",
    "\n",
    "        if estimated_value < best_estimated_value:\n",
    "            best_node = next_node\n",
    "            best_estimated_value = estimated_value\n",
    "\n",
    "    \n",
    "   \n",
    "    return best_node, distance_matrix[node,best_node]\n"
   ]
  },
  {
   "cell_type": "markdown",
   "metadata": {
    "slideshow": {
     "slide_type": "slide"
    }
   },
   "source": [
    "## Die Hauptfunktion:"
   ]
  },
  {
   "cell_type": "code",
   "execution_count": 19,
   "metadata": {
    "slideshow": {
     "slide_type": "-"
    }
   },
   "outputs": [],
   "source": [
    "@njit\n",
    "def tsp_rollout_nn(distance_matrix, tour):\n",
    "        \n",
    "    total_distance = 0\n",
    "    \n",
    "    #solange die sequenz noch nicht alle Knoten umfasst\n",
    "    while len(tour) < len(distance_matrix):    \n",
    "        \n",
    "        next_node, distance = select_using_rollout_nn(tour, distance_matrix)\n",
    "        tour.append(next_node)\n",
    "        total_distance += distance     \n",
    "        \n",
    "    total_distance += distance_matrix[tour[len(tour)-1],tour[0]]\n",
    "    return tour, total_distance"
   ]
  },
  {
   "cell_type": "code",
   "execution_count": 20,
   "metadata": {},
   "outputs": [],
   "source": [
    "\n",
    "def multi_start_rollout(distance_matrix):\n",
    "\n",
    "    best_distance = 999999\n",
    "    best_tour = None\n",
    "    for start_node in range(len(distance_matrix)):\n",
    "        tour, distance = tsp_rollout_nn(distance_matrix, [start_node])\n",
    "        if distance < best_distance:\n",
    "            best_distance = distance\n",
    "            best_tour = tour         \n",
    "\n",
    "    return best_tour, best_distance  "
   ]
  },
  {
   "cell_type": "markdown",
   "metadata": {
    "slideshow": {
     "slide_type": "slide"
    }
   },
   "source": [
    "## Ansatz  zur Beschleunigung: Simplified Rollout\n",
    "\n",
    "**Kernidee:** Führe Rollout nicht für alle möglichen Entscheidungen aus\n",
    "- beim TSP: nicht für jeden möglichen nächsten Knoten\n",
    "\n",
    "**Einfacher Ansatz:** Nutze die Greedy-Funktion zur Auswahl\n",
    "- für das TSP: nimm nur die $n$ nächsten Nachbarn\n",
    "- der dazu sortieren wir einfach in jedem Schritt die Nachbarn aufsteigend nach Distanz \n",
    "  - und brechen ab, sobald $n$ Nachbarn untersucht wurden\n"
   ]
  },
  {
   "cell_type": "code",
   "execution_count": 21,
   "metadata": {
    "slideshow": {
     "slide_type": "fragment"
    }
   },
   "outputs": [],
   "source": [
    "@njit\n",
    "def select_using_simplified_rollout_nn(distance_matrix, tour,  max_number_of_neighbors_rollout):\n",
    "    \n",
    "    node = tour[len(tour)-1] \n",
    "                                    \n",
    "    best_estimated_value = 1000000\n",
    "    best_node = node  \n",
    "   \n",
    "    sorted_neighbors = np.argsort(distance_matrix[node])\n",
    "    \n",
    "    number_of_neighbors_rollout = 0\n",
    "    for next_node in sorted_neighbors:\n",
    "        if next_node in tour: \n",
    "            continue              \n",
    "        \n",
    "        number_of_neighbors_rollout += 1\n",
    "        \n",
    "        # zähler wenn \n",
    "        if number_of_neighbors_rollout > max_number_of_neighbors_rollout:\n",
    "            break     \n",
    "                                    \n",
    "                \n",
    "        _, nn_value = tsp_nearest_neighbor(distance_matrix, tour + [next_node])\n",
    "        \n",
    "        estimated_value = distance_matrix[node,next_node] + nn_value\n",
    "\n",
    "        if estimated_value < best_estimated_value:\n",
    "            best_node = next_node\n",
    "            best_estimated_value = estimated_value\n",
    "\n",
    "    return best_node, distance_matrix[node,best_node]\n",
    "\n"
   ]
  },
  {
   "cell_type": "markdown",
   "metadata": {
    "slideshow": {
     "slide_type": "slide"
    }
   },
   "source": [
    "## Die Hauptfunktion:"
   ]
  },
  {
   "cell_type": "code",
   "execution_count": 22,
   "metadata": {
    "slideshow": {
     "slide_type": "-"
    }
   },
   "outputs": [],
   "source": [
    "@njit\n",
    "def tsp_simplified_rollout_nn(distance_matrix, tour, max_number_of_neighbors_rollout):\n",
    "        \n",
    "    total_distance = 0\n",
    "    \n",
    "    #solange die sequenz noch nicht alle Knoten umfasst\n",
    "    while len(tour) < len(distance_matrix):    \n",
    "        \n",
    "        next_node, distance = select_using_simplified_rollout_nn(distance_matrix, tour, max_number_of_neighbors_rollout)\n",
    "        tour.append(next_node)\n",
    "        total_distance += distance     \n",
    "        \n",
    "    total_distance += distance_matrix[tour[len(tour)-1],tour[0]]\n",
    "    return tour, total_distance"
   ]
  },
  {
   "cell_type": "markdown",
   "metadata": {
    "slideshow": {
     "slide_type": "-"
    }
   },
   "source": [
    "..probieren wir es wieder aus:"
   ]
  },
  {
   "cell_type": "code",
   "execution_count": 23,
   "metadata": {
    "scrolled": true,
    "slideshow": {
     "slide_type": "-"
    }
   },
   "outputs": [
    {
     "name": "stdout",
     "output_type": "stream",
     "text": [
      "Solution feasible, distance is:  8042\n",
      "CPU times: total: 2.95 s\n",
      "Wall time: 4.36 s\n"
     ]
    }
   ],
   "source": [
    "%%time\n",
    "max_number_of_neighbors = 20\n",
    "tour_simplified_rollout_nn, distance_simplified_rollout_nn = tsp_simplified_rollout_nn(distance_matrix, [0], max_number_of_neighbors)\n",
    "print_obj_and_eval_tsp_solution(distance_matrix, tour_simplified_rollout_nn, distance_simplified_rollout_nn)\n",
    "\n"
   ]
  },
  {
   "cell_type": "code",
   "execution_count": null,
   "metadata": {},
   "outputs": [],
   "source": []
  },
  {
   "cell_type": "markdown",
   "metadata": {},
   "source": [
    "# Vorbereitung der Baumsuche"
   ]
  },
  {
   "cell_type": "code",
   "execution_count": 24,
   "metadata": {},
   "outputs": [],
   "source": [
    "@njit\n",
    "def get_dist_feasible_candidate_tours(distance_matrix, tour, total_distance):\n",
    "    # beachte: total_distance ist die Distanz der bisherigen Tour\n",
    "    \n",
    "    dist_candidate_tour = [] ## leere Liste, in der wir die tuples sammeln\n",
    "    \n",
    "    for neighbor, distance in enumerate(distance_matrix[tour[-1]]):\n",
    "        if neighbor in tour:\n",
    "            continue\n",
    "        \n",
    "        candidate_tour = tour + [neighbor]\n",
    "        \n",
    "        # Falluntercheidung für dfen letzten Knoten\n",
    "        if len(candidate_tour) == len(distance_matrix):\n",
    "            distance += distance_matrix[neighbor, tour[0]]\n",
    "        \n",
    "        total_distance_candidate_tour = total_distance + distance\n",
    "        dist_candidate_tour.append((total_distance_candidate_tour, candidate_tour))\n",
    "        \n",
    "        \n",
    "    return dist_candidate_tour\n"
   ]
  },
  {
   "cell_type": "markdown",
   "metadata": {
    "slideshow": {
     "slide_type": "slide"
    }
   },
   "source": [
    "## Nearest Neighbor als Greedy-Verfahren für das TSP: Hauptfunktion\n",
    "\n",
    "- die Hauptfunktion `tsp_greedy` sieht dann auch leicht anders aus:\n",
    "  - beachte: der erste Parameter ist eine Tour!\n",
    "  - und: durch die Verwendung des tupels `(distance, tour)` für jeden Nachbarn können wir einfach das Minimum aus der Liste der Tupel suchen (denn das erste Element wird zum Vergleich zuerst herangezogen)"
   ]
  },
  {
   "cell_type": "code",
   "execution_count": 25,
   "metadata": {
    "slideshow": {
     "slide_type": "-"
    }
   },
   "outputs": [],
   "source": [
    "@njit\n",
    "def tsp_greedy(distance_matrix, tour):\n",
    "        \n",
    "    total_distance = 0\n",
    "    \n",
    "    #solange die sequenz noch nicht alle Knoten umfasst\n",
    "    while len(tour) < len(distance_matrix):    \n",
    "        \n",
    "        #bestimme alle zulässigen Nachbarn und deren Entfernungen\n",
    "        dist_candidate_tours = get_dist_feasible_candidate_tours(distance_matrix, tour, total_distance)   \n",
    "        \n",
    "        # bestimme das minimale Tupel (der erste Wert des Tupels, d.h. die Distance, wird automatisch genutzt)\n",
    "        distance_best_candidate_tour, best_candidate_tour = min(dist_candidate_tours)\n",
    "        \n",
    "        tour = best_candidate_tour\n",
    "        total_distance = distance_best_candidate_tour    \n",
    "        \n",
    "\n",
    "    return tour, total_distance"
   ]
  },
  {
   "cell_type": "markdown",
   "metadata": {
    "slideshow": {
     "slide_type": "slide"
    }
   },
   "source": [
    "## Beam Search ohne Visualisierung\n",
    "\n",
    "- zum Testen größerer Instanzen hier Code ohne Visualisierung:"
   ]
  },
  {
   "cell_type": "code",
   "execution_count": 47,
   "metadata": {
    "slideshow": {
     "slide_type": "slide"
    }
   },
   "outputs": [],
   "source": [
    "from heapq import nsmallest\n",
    "\n",
    "def tsp_beam_search(distance_matrix, tour , beam_width):\n",
    "        \n",
    "    total_distance = 0\n",
    "    \n",
    "    \n",
    "    # alle Zustandsknoten als Distanz-Tour-Tupel in der aktuellen Stufe / Ebene \n",
    "    dist_tours_current_stage = [(0, tour.copy())] \n",
    "    \n",
    "    for stage in range(0,len(distance_matrix)-1):\n",
    "        \n",
    "        dist_tours_next_stage = []\n",
    "        \n",
    "        for tour_dist, current_tour in dist_tours_current_stage:\n",
    "                  \n",
    "            #bestimme alle zulässigen Tourerweiterungen und deren Entfernungen\n",
    "            dist_candidate_tours = get_dist_feasible_candidate_tours(distance_matrix, current_tour, tour_dist)     \n",
    "            \n",
    "        \n",
    "            for candidate_tour_dist, candidate_tour in dist_candidate_tours:                         \n",
    "\n",
    "                dist_tours_next_stage.append( (candidate_tour_dist, candidate_tour) )\n",
    "                \n",
    "        dist_tours_current_stage = nsmallest(beam_width, dist_tours_next_stage)\n",
    "    \n",
    "    best_distance, best_tour  = min(dist_tours_current_stage)\n",
    "    return best_tour, best_distance"
   ]
  },
  {
   "cell_type": "markdown",
   "metadata": {
    "slideshow": {
     "slide_type": "slide"
    }
   },
   "source": [
    "# Experimente und deren Auswertung"
   ]
  },
  {
   "cell_type": "markdown",
   "metadata": {
    "slideshow": {
     "slide_type": "slide"
    }
   },
   "source": [
    "## Herausforderungen für die Auswertung\n",
    "\n",
    "**Wir wollen:**\n",
    "- nicht nur eine, sondern mehrere Instanzen testen\n",
    "  - ohne jedes Mal jede Zelle des Notebooks laufen zu lassen\n",
    "- die Ergebnisse in Dateien speichern\n",
    "  - Läufe können länger dauern und an verschiedenen Tagen passieren\n",
    "  - die Auswertung kann später gemacht wercen\n",
    "- damit umgehen, dass es nicht nur verschiedene Algorithmen, sondern auch Varianten und paramtrisierte Algorithmen gibt\n",
    "  - z.B. Anzahl betrachteter Knote / Zustände (`beam width`) bei Beam Search, Limit für die Anwendung von Heuristiken in der informierten Suche\n",
    "- sinnvolle Tabellen erstellen\n",
    "  - Ergebnisse und Laufzeiten\n",
    "  - Zusammenfassung / Normierung von Ergebnissen mittes Abstand zur optimalen Lösung\n"
   ]
  },
  {
   "cell_type": "markdown",
   "metadata": {
    "slideshow": {
     "slide_type": "slide"
    }
   },
   "source": [
    "## Mehrere Algorithmen laufen lassen\n",
    "\n",
    "- wir schreiben eine Funktion, die \n",
    "  - für eine Instanz mehrere Algorithmen aufruft\n",
    "  - und die Ergebnisse über print-statements ausgibt\n",
    "  "
   ]
  },
  {
   "cell_type": "code",
   "execution_count": 81,
   "metadata": {
    "slideshow": {
     "slide_type": "-"
    }
   },
   "outputs": [],
   "source": [
    "from timeit import default_timer as timer\n",
    "\n",
    "def run_algorithms(instance_name):\n",
    "    \n",
    "    tsplib_file = instances_path + instance_name + \".tsp\" # optimale Lösung 7542 (lt. http://comopt.ifi.uni-heidelberg.de/software/TSPLIB95/STSP.html)\n",
    "    distance_matrix = tsplib_distance_matrix(tsplib_file)\n",
    "    print (\"Instanz\", instance_name)\n",
    "    print (\"Nodes\", len(distance_matrix))\n",
    "    \n",
    "    print(\"Nearest Neighbor:\")\n",
    "    starttime = timer()    \n",
    "    permutation_nn, distance_nn = tsp_greedy(distance_matrix, [0])\n",
    "    print_obj_and_eval_tsp_solution(distance_matrix, permutation_nn, distance_nn )\n",
    "    print(f\"Time: {timer()- starttime:0.5f}\")\n",
    "    \n",
    "    print(\"Mutistart Nearest Neighbor:\")\n",
    "    starttime = timer()    \n",
    "    permutation_nn, distance_nn = tsp_nearest_neighbor_multi_start(distance_matrix)\n",
    "    print_obj_and_eval_tsp_solution(distance_matrix, permutation_nn, distance_nn )\n",
    "    print(f\"Time: {timer()- starttime:0.5f}\")\n",
    "    \n",
    "    print(\"Rollout Nearest Neighbor\")\n",
    "    starttime = timer()    \n",
    "    permutation_nn, distance_nn  = tsp_rollout_nn(distance_matrix, [0])\n",
    "    print_obj_and_eval_tsp_solution(distance_matrix, permutation_nn, distance_nn )\n",
    "    print(f\"Time: {timer()- starttime:0.3f}\")\n",
    "    \n",
    "    print(\"Multistart Rollout Nearest Neighbor\")\n",
    "    starttime = timer()    \n",
    "    permutation_nn, distance_nn  = multi_start_rollout(distance_matrix)\n",
    "    print_obj_and_eval_tsp_solution(distance_matrix, permutation_nn, distance_nn )\n",
    "    print(f\"Time: {timer()- starttime:0.3f}\")\n",
    "    \n",
    "    \n",
    "    print(\"Simplified Rollout 10 Candidates\")\n",
    "    starttime = timer()    \n",
    "    permutation_nn, distance_nn  = tsp_simplified_rollout_nn(distance_matrix, [0], 10)\n",
    "    print_obj_and_eval_tsp_solution(distance_matrix, permutation_nn, distance_nn )\n",
    "    print(f\"Time: {timer()- starttime:0.3f}\")\n",
    "     \n",
    "    \n",
    "    print(\"Beam Search Width 20\")\n",
    "    starttime = timer()    \n",
    "    permutation_nn, distance_nn  = tsp_beam_search(distance_matrix, [0], 20)\n",
    "    print_obj_and_eval_tsp_solution(distance_matrix, permutation_nn, distance_nn )\n",
    "    print(f\"Time: {timer()- starttime:0.3f}\")\n",
    "     \n",
    "    \n",
    "    "
   ]
  },
  {
   "cell_type": "code",
   "execution_count": 82,
   "metadata": {
    "slideshow": {
     "slide_type": "-"
    }
   },
   "outputs": [
    {
     "name": "stdout",
     "output_type": "stream",
     "text": [
      "Instanz berlin52\n",
      "Nodes 52\n",
      "Nearest Neighbor:\n",
      "Solution feasible, distance is:  8980\n",
      "Time: 0.00059\n",
      "Mutistart Nearest Neighbor:\n",
      "Solution feasible, distance is:  8181\n",
      "Time: 0.00186\n",
      "Rollout Nearest Neighbor\n",
      "Solution feasible, distance is:  8042\n",
      "Time: 0.030\n",
      "Multistart Rollout Nearest Neighbor\n",
      "Solution feasible, distance is:  7819\n",
      "Time: 1.588\n",
      "Simplified Rollout 10 Candidates\n",
      "Solution feasible, distance is:  8122\n",
      "Time: 0.009\n",
      "Beam Search Width 20\n",
      "Solution feasible, distance is:  10129\n",
      "Time: 0.062\n"
     ]
    }
   ],
   "source": [
    "run_algorithms(\"berlin52\")"
   ]
  },
  {
   "cell_type": "markdown",
   "metadata": {
    "slideshow": {
     "slide_type": "slide"
    }
   },
   "source": [
    "## Eine Funktion zum Experimentieren mit mehreren Instanzen\n",
    "- wir möchten nicht  nur eine, sondern mehrere Instanzen testen"
   ]
  },
  {
   "cell_type": "code",
   "execution_count": 53,
   "metadata": {
    "slideshow": {
     "slide_type": "-"
    }
   },
   "outputs": [],
   "source": [
    "def run_algorithms_on_instances(instance_names):\n",
    "\n",
    "    for instance_name in instance_names: \n",
    "        run_algorithms(instance_name)\n",
    "        "
   ]
  },
  {
   "cell_type": "code",
   "execution_count": 54,
   "metadata": {
    "slideshow": {
     "slide_type": "-"
    }
   },
   "outputs": [
    {
     "name": "stdout",
     "output_type": "stream",
     "text": [
      "Instanz berlin52\n",
      "Nodes 52\n",
      "Nearest Neighbor:\n",
      "Solution feasible, distance is:  8980\n",
      "Time: 0.00066\n",
      "Mutistart Nearest Neighbor:\n",
      "Solution feasible, distance is:  8181\n",
      "Time: 0.00165\n",
      "Rollout Nearest Neighbor\n",
      "Solution feasible, distance is:  8042\n",
      "Time: 0.030\n",
      "Multistart Rollout Nearest Neighbor\n",
      "Solution feasible, distance is:  7819\n",
      "Time: 1.543\n",
      "Simplified Rollout 10 Candidates\n",
      "Solution feasible, distance is:  8122\n",
      "Time: 0.009\n",
      "Beam Search Width 20\n",
      "Solution feasible, distance is:  10129\n",
      "Time: 0.057\n",
      "Instanz gr48\n",
      "Nodes 48\n",
      "Nearest Neighbor:\n",
      "Solution feasible, distance is:  6098\n",
      "Time: 0.00057\n",
      "Mutistart Nearest Neighbor:\n",
      "Solution feasible, distance is:  5840\n",
      "Time: 0.00127\n",
      "Rollout Nearest Neighbor\n",
      "Solution feasible, distance is:  5581\n",
      "Time: 0.021\n",
      "Multistart Rollout Nearest Neighbor\n",
      "Solution feasible, distance is:  5445\n",
      "Time: 1.047\n",
      "Simplified Rollout 10 Candidates\n",
      "Solution feasible, distance is:  5581\n",
      "Time: 0.006\n",
      "Beam Search Width 20\n",
      "Solution feasible, distance is:  6372\n",
      "Time: 0.047\n"
     ]
    }
   ],
   "source": [
    "run_algorithms_on_instances([\"berlin52\", \"gr48\"])  "
   ]
  },
  {
   "cell_type": "markdown",
   "metadata": {
    "slideshow": {
     "slide_type": "slide"
    }
   },
   "source": [
    "## Daten strukturiert erfassen\n",
    "\n",
    "- im obigen Code wurden die Daten relativ unstrukturiert ausgegeben\n",
    "- man kann dann die Daten zwar per copy/paste \"herausschreiben\", das ist jedoch relativ aufwändig und umständlich\n",
    "\n",
    "**Neuer Ansatz:**\n",
    "- wir sammeln die Daten für jeden Lauf eines Algorithmus in einem `dict` mit den folgenden Daten\n",
    "  - Instance\n",
    "  - Algorithm\n",
    "  - verwendete Parameter\n",
    "  - Objective\n",
    "  - Time\n",
    "- fügen all diese Ergebnisse zusammen\n",
    "- und bilden daraus einen `dataframe`\n",
    "  \n",
    " "
   ]
  },
  {
   "cell_type": "markdown",
   "metadata": {
    "slideshow": {
     "slide_type": "slide"
    }
   },
   "source": [
    "## Daten strukturiert erfassen: Funktion, die einen Algorithmus ausführt und ein `dict` zurückgibt\n",
    "\n",
    "Die folgende Funktion `run_algorithm_with_parameters` hat folgende Argumente:\n",
    "- den Namen der Instanz\n",
    "- die Funktion, die ausgeführt werden soll \n",
    "- ein `dict` `algorithm_parameters`mit den Parametern der Funktion (alle außer der Distanzmatrix) \n",
    "  - Beispiel: `{ \"tour\" : [0] }` für den Greedy-Algorithmus wird der Funktionsparameter `tour` (die zunächst nur den Start-Knoten enthält), als `[0]` festgelegt\n",
    "  - wichtig: Parameter-Name ist ein string!\n",
    "\n",
    "Auf diese Weise können **unterschiedliche Algorithmen**, die insbesondere eine  **unterschiedliche Anzahl an Parametern haben können**, einheitlich aufgerufen werden\n",
    " \n",
    "\n",
    "Die Funktion führt den Algorithmus aus\n",
    "- der Ausdruck `**algorithm_parameters` beim Aufruf der Funktion \"entpackt\" das dict so, dass die Elemente des `dict` als Funktionsparameter genutzt werden\n",
    "- wichtig: die `keys` des `dict` müssen genau so heißen wie die Parameter der Algorithmen-Funktion!\n",
    "\n",
    "Schließlich gibt die Funktion ein `dict` zurück mit den wichtigsten Ergebnissen"
   ]
  },
  {
   "cell_type": "code",
   "execution_count": 59,
   "metadata": {
    "slideshow": {
     "slide_type": "-"
    }
   },
   "outputs": [],
   "source": [
    "def run_algorithm_with_parameters(instance_name, function_algorithm, algorithm_parameters):\n",
    "    \n",
    "    ## hier ggf den Dateipfad anpassen\n",
    "    tsplib_file = instances_path  + instance_name +\".tsp\" # \n",
    "    distance_matrix = tsplib_distance_matrix(tsplib_file)  \n",
    "\n",
    "    # ausführen\n",
    "    starttime = timer()    \n",
    "    permutation, distance = function_algorithm(distance_matrix, **algorithm_parameters)\n",
    "    \n",
    "    result_dict = {}\n",
    "    result_dict[\"Instance\"] = instance_name\n",
    "    result_dict[\"Algorithm\"] = function_algorithm.__name__\n",
    "    result_dict[\"Parameters\"] = algorithm_parameters\n",
    "    result_dict[\"Objective\"] = distance\n",
    "    result_dict[\"Time\"] = timer()- starttime\n",
    "    \n",
    "    return result_dict\n",
    "    "
   ]
  },
  {
   "cell_type": "markdown",
   "metadata": {
    "slideshow": {
     "slide_type": "slide"
    }
   },
   "source": [
    "Beispiele:"
   ]
  },
  {
   "cell_type": "code",
   "execution_count": 60,
   "metadata": {
    "scrolled": true
   },
   "outputs": [
    {
     "name": "stdout",
     "output_type": "stream",
     "text": [
      "{'Instance': 'berlin52', 'Algorithm': 'tsp_greedy', 'Parameters': {'tour': [0]}, 'Objective': 8980, 'Time': 0.0006090999813750386}\n",
      "{'Instance': 'berlin52', 'Algorithm': 'tsp_beam_search', 'Parameters': {'tour': [0], 'beam_width': 500}, 'Objective': 8446, 'Time': 2.2932086000218987}\n"
     ]
    }
   ],
   "source": [
    "# Beispiel: der greedy nearest neighbor hat einen Parameter (tour, d.h. start-Knoten)\n",
    "parameters = { \"tour\" : [0]}\n",
    "result = run_algorithm_with_parameters(\"berlin52\", tsp_greedy, parameters)\n",
    "print(result)\n",
    "\n",
    "# Beispiel: beam search hat zwei Parameter\n",
    "parameters = { \"tour\" : [0], \"beam_width\" :500 }\n",
    "result = run_algorithm_with_parameters(\"berlin52\", tsp_beam_search, parameters)\n",
    "print(result)\n"
   ]
  },
  {
   "cell_type": "markdown",
   "metadata": {
    "slideshow": {
     "slide_type": "slide"
    }
   },
   "source": [
    "## Mehrere Algorithmen auswerten und Ergebnisse als Data Frame darstellen\n",
    "\n",
    "- nun haben wir eine einheitliche Funktion, die Daten strukturiert ausgibt\n",
    "- wir schreiben nun eine Funktion, die mehrere Algorithmen ausführt\n",
    "- diese Funktion hat als Parameter:\n",
    "  - einen Instanznamen\n",
    "  - eine Liste aus 2- `tuples`, bestehend aus: `algorithmus_funktion` und einem `dict` mit Paramtern\n",
    "  \n",
    "..die Funktion führt die Algorithmen aus und gibt eine Liste mit Ergebnis-`dict`s zurück\n"
   ]
  },
  {
   "cell_type": "code",
   "execution_count": 61,
   "metadata": {
    "slideshow": {
     "slide_type": "-"
    }
   },
   "outputs": [],
   "source": [
    "def run_algorithms_with_parameters(instance_name, algorithms_parameters):\n",
    "    \n",
    "    results = []\n",
    "    for algorithm, parameters in algorithms_parameters:\n",
    "    \n",
    "        results.append (run_algorithm_with_parameters(instance_name, algorithm, parameters) )\n",
    "    \n",
    "    \n",
    "    \n",
    "    return results"
   ]
  },
  {
   "cell_type": "code",
   "execution_count": 62,
   "metadata": {},
   "outputs": [
    {
     "name": "stdout",
     "output_type": "stream",
     "text": [
      "[{'Instance': 'berlin52', 'Algorithm': 'tsp_greedy', 'Parameters': {'tour': [0]}, 'Objective': 8980, 'Time': 0.000555400038138032}, {'Instance': 'berlin52', 'Algorithm': 'tsp_beam_search', 'Parameters': {'tour': [0], 'beam_width': 500}, 'Objective': 8446, 'Time': 2.515991299995221}]\n"
     ]
    }
   ],
   "source": [
    "algorithms_parameters = [] # Liste erstellen\n",
    "\n",
    "# greedy (beachte: jeder Eintrag der Liste ist ein Tupel (algorithmus, parameter-dict )  )\n",
    "algorithms_parameters.append( ( tsp_greedy, { \"tour\" : [0] } ) ) \n",
    "\n",
    "algorithms_parameters.append( ( tsp_beam_search, { \"tour\" : [0],\n",
    "                                                  \"beam_width\": 500 } ) )\n",
    "\n",
    "results = run_algorithms_with_parameters( \"berlin52\", algorithms_parameters) \n",
    "\n",
    "print(results)"
   ]
  },
  {
   "cell_type": "markdown",
   "metadata": {},
   "source": [
    "## Ergebnisse als Data Frame darstellen\n",
    "\n",
    "..der nächste Schritt ist dann relativ einfach:\n",
    "\n",
    "- eine Liste von `dict`s kann einfach in ein data frame überführt werden"
   ]
  },
  {
   "cell_type": "code",
   "execution_count": 63,
   "metadata": {
    "scrolled": true
   },
   "outputs": [
    {
     "data": {
      "text/html": [
       "<div>\n",
       "<style scoped>\n",
       "    .dataframe tbody tr th:only-of-type {\n",
       "        vertical-align: middle;\n",
       "    }\n",
       "\n",
       "    .dataframe tbody tr th {\n",
       "        vertical-align: top;\n",
       "    }\n",
       "\n",
       "    .dataframe thead th {\n",
       "        text-align: right;\n",
       "    }\n",
       "</style>\n",
       "<table border=\"1\" class=\"dataframe\">\n",
       "  <thead>\n",
       "    <tr style=\"text-align: right;\">\n",
       "      <th></th>\n",
       "      <th>Instance</th>\n",
       "      <th>Algorithm</th>\n",
       "      <th>Parameters</th>\n",
       "      <th>Objective</th>\n",
       "      <th>Time</th>\n",
       "    </tr>\n",
       "  </thead>\n",
       "  <tbody>\n",
       "    <tr>\n",
       "      <th>0</th>\n",
       "      <td>berlin52</td>\n",
       "      <td>tsp_greedy</td>\n",
       "      <td>{'tour': [0]}</td>\n",
       "      <td>8980</td>\n",
       "      <td>0.000555</td>\n",
       "    </tr>\n",
       "    <tr>\n",
       "      <th>1</th>\n",
       "      <td>berlin52</td>\n",
       "      <td>tsp_beam_search</td>\n",
       "      <td>{'tour': [0], 'beam_width': 500}</td>\n",
       "      <td>8446</td>\n",
       "      <td>2.515991</td>\n",
       "    </tr>\n",
       "  </tbody>\n",
       "</table>\n",
       "</div>"
      ],
      "text/plain": [
       "   Instance        Algorithm                        Parameters  Objective  \\\n",
       "0  berlin52       tsp_greedy                     {'tour': [0]}       8980   \n",
       "1  berlin52  tsp_beam_search  {'tour': [0], 'beam_width': 500}       8446   \n",
       "\n",
       "       Time  \n",
       "0  0.000555  \n",
       "1  2.515991  "
      ]
     },
     "execution_count": 63,
     "metadata": {},
     "output_type": "execute_result"
    }
   ],
   "source": [
    "pd.DataFrame(results)"
   ]
  },
  {
   "cell_type": "markdown",
   "metadata": {
    "slideshow": {
     "slide_type": "slide"
    }
   },
   "source": [
    "## Erweitern der Ergebnisse \n",
    "\n",
    ".. wir können auch die Results um weitere Läufe ergänzen:"
   ]
  },
  {
   "cell_type": "code",
   "execution_count": 64,
   "metadata": {
    "scrolled": true,
    "slideshow": {
     "slide_type": "-"
    }
   },
   "outputs": [
    {
     "data": {
      "text/html": [
       "<div>\n",
       "<style scoped>\n",
       "    .dataframe tbody tr th:only-of-type {\n",
       "        vertical-align: middle;\n",
       "    }\n",
       "\n",
       "    .dataframe tbody tr th {\n",
       "        vertical-align: top;\n",
       "    }\n",
       "\n",
       "    .dataframe thead th {\n",
       "        text-align: right;\n",
       "    }\n",
       "</style>\n",
       "<table border=\"1\" class=\"dataframe\">\n",
       "  <thead>\n",
       "    <tr style=\"text-align: right;\">\n",
       "      <th></th>\n",
       "      <th>Instance</th>\n",
       "      <th>Algorithm</th>\n",
       "      <th>Parameters</th>\n",
       "      <th>Objective</th>\n",
       "      <th>Time</th>\n",
       "    </tr>\n",
       "  </thead>\n",
       "  <tbody>\n",
       "    <tr>\n",
       "      <th>0</th>\n",
       "      <td>berlin52</td>\n",
       "      <td>tsp_greedy</td>\n",
       "      <td>{'tour': [0]}</td>\n",
       "      <td>8980</td>\n",
       "      <td>0.000555</td>\n",
       "    </tr>\n",
       "    <tr>\n",
       "      <th>1</th>\n",
       "      <td>berlin52</td>\n",
       "      <td>tsp_beam_search</td>\n",
       "      <td>{'tour': [0], 'beam_width': 500}</td>\n",
       "      <td>8446</td>\n",
       "      <td>2.515991</td>\n",
       "    </tr>\n",
       "    <tr>\n",
       "      <th>2</th>\n",
       "      <td>berlin52</td>\n",
       "      <td>tsp_nearest_neighbor_multi_start</td>\n",
       "      <td>{}</td>\n",
       "      <td>8181</td>\n",
       "      <td>0.001674</td>\n",
       "    </tr>\n",
       "    <tr>\n",
       "      <th>3</th>\n",
       "      <td>berlin52</td>\n",
       "      <td>tsp_rollout_nn</td>\n",
       "      <td>{'tour': [0, 39, 37, 36, 38, 35, 34, 33, 43, 4...</td>\n",
       "      <td>8042</td>\n",
       "      <td>0.029940</td>\n",
       "    </tr>\n",
       "    <tr>\n",
       "      <th>4</th>\n",
       "      <td>berlin52</td>\n",
       "      <td>tsp_simplified_rollout_nn</td>\n",
       "      <td>{'tour': [0, 39, 37, 36, 38, 35, 34, 33, 43, 4...</td>\n",
       "      <td>8042</td>\n",
       "      <td>0.016551</td>\n",
       "    </tr>\n",
       "  </tbody>\n",
       "</table>\n",
       "</div>"
      ],
      "text/plain": [
       "   Instance                         Algorithm  \\\n",
       "0  berlin52                        tsp_greedy   \n",
       "1  berlin52                   tsp_beam_search   \n",
       "2  berlin52  tsp_nearest_neighbor_multi_start   \n",
       "3  berlin52                    tsp_rollout_nn   \n",
       "4  berlin52         tsp_simplified_rollout_nn   \n",
       "\n",
       "                                          Parameters  Objective      Time  \n",
       "0                                      {'tour': [0]}       8980  0.000555  \n",
       "1                   {'tour': [0], 'beam_width': 500}       8446  2.515991  \n",
       "2                                                 {}       8181  0.001674  \n",
       "3  {'tour': [0, 39, 37, 36, 38, 35, 34, 33, 43, 4...       8042  0.029940  \n",
       "4  {'tour': [0, 39, 37, 36, 38, 35, 34, 33, 43, 4...       8042  0.016551  "
      ]
     },
     "execution_count": 64,
     "metadata": {},
     "output_type": "execute_result"
    }
   ],
   "source": [
    "\n",
    "algorithms_parameters = []\n",
    "\n",
    "\n",
    "algorithms_parameters.append(( tsp_nearest_neighbor_multi_start, {} ))\n",
    "\n",
    "algorithms_parameters.append(( tsp_rollout_nn, {  \"tour\" : [0] } ))\n",
    "\n",
    "algorithms_parameters.append(( tsp_simplified_rollout_nn, { \"tour\" : [0], \n",
    "                                                            \"max_number_of_neighbors_rollout\": 20 } ))\n",
    "\n",
    "\n",
    "results += run_algorithms_with_parameters( \"berlin52\", algorithms_parameters) \n",
    "\n",
    "\n",
    "pd.DataFrame(results)   "
   ]
  },
  {
   "cell_type": "markdown",
   "metadata": {
    "slideshow": {
     "slide_type": "fragment"
    }
   },
   "source": [
    "\n",
    "><div class=\"alert alert-block alert-info\">\n",
    "<b>\n",
    "Ergänzen Sie die Funktion `run_algorithms` so, dass der Gap zur optimalen Lösung als Ergebniswert ausgegeben wird!\n",
    "</b></div>  \n",
    "\n",
    "    "
   ]
  },
  {
   "cell_type": "markdown",
   "metadata": {
    "slideshow": {
     "slide_type": "slide"
    }
   },
   "source": [
    "## Mehrere Instanzen vergleichen\n",
    "\n",
    "Nun können wir relativ einfach eine neue Funktion schreiben, die die Experimente für mehrere Instanzen ausführt:\n",
    "\n"
   ]
  },
  {
   "cell_type": "code",
   "execution_count": 65,
   "metadata": {},
   "outputs": [],
   "source": [
    "def run_algorithms_with_parameters_on_instances (instance_names, algorithms_parameters):\n",
    "    \n",
    "    results = []\n",
    "    \n",
    "    for instance_name in instance_names: \n",
    "        results += run_algorithms_with_parameters( instance_name, algorithms_parameters) \n",
    "        \n",
    "    return results\n"
   ]
  },
  {
   "cell_type": "markdown",
   "metadata": {
    "slideshow": {
     "slide_type": "fragment"
    }
   },
   "source": [
    "..probieren wir es aus:\n"
   ]
  },
  {
   "cell_type": "code",
   "execution_count": 66,
   "metadata": {},
   "outputs": [
    {
     "data": {
      "text/html": [
       "<div>\n",
       "<style scoped>\n",
       "    .dataframe tbody tr th:only-of-type {\n",
       "        vertical-align: middle;\n",
       "    }\n",
       "\n",
       "    .dataframe tbody tr th {\n",
       "        vertical-align: top;\n",
       "    }\n",
       "\n",
       "    .dataframe thead th {\n",
       "        text-align: right;\n",
       "    }\n",
       "</style>\n",
       "<table border=\"1\" class=\"dataframe\">\n",
       "  <thead>\n",
       "    <tr style=\"text-align: right;\">\n",
       "      <th></th>\n",
       "      <th>Instance</th>\n",
       "      <th>Algorithm</th>\n",
       "      <th>Parameters</th>\n",
       "      <th>Objective</th>\n",
       "      <th>Time</th>\n",
       "    </tr>\n",
       "  </thead>\n",
       "  <tbody>\n",
       "    <tr>\n",
       "      <th>0</th>\n",
       "      <td>berlin52</td>\n",
       "      <td>tsp_greedy</td>\n",
       "      <td>{'tour': [0]}</td>\n",
       "      <td>8980</td>\n",
       "      <td>0.000544</td>\n",
       "    </tr>\n",
       "    <tr>\n",
       "      <th>1</th>\n",
       "      <td>berlin52</td>\n",
       "      <td>tsp_beam_search</td>\n",
       "      <td>{'tour': [0], 'beam_width': 500}</td>\n",
       "      <td>8446</td>\n",
       "      <td>2.475186</td>\n",
       "    </tr>\n",
       "    <tr>\n",
       "      <th>2</th>\n",
       "      <td>gr48</td>\n",
       "      <td>tsp_greedy</td>\n",
       "      <td>{'tour': [0]}</td>\n",
       "      <td>6098</td>\n",
       "      <td>0.000469</td>\n",
       "    </tr>\n",
       "    <tr>\n",
       "      <th>3</th>\n",
       "      <td>gr48</td>\n",
       "      <td>tsp_beam_search</td>\n",
       "      <td>{'tour': [0], 'beam_width': 500}</td>\n",
       "      <td>6315</td>\n",
       "      <td>2.145465</td>\n",
       "    </tr>\n",
       "  </tbody>\n",
       "</table>\n",
       "</div>"
      ],
      "text/plain": [
       "   Instance        Algorithm                        Parameters  Objective  \\\n",
       "0  berlin52       tsp_greedy                     {'tour': [0]}       8980   \n",
       "1  berlin52  tsp_beam_search  {'tour': [0], 'beam_width': 500}       8446   \n",
       "2      gr48       tsp_greedy                     {'tour': [0]}       6098   \n",
       "3      gr48  tsp_beam_search  {'tour': [0], 'beam_width': 500}       6315   \n",
       "\n",
       "       Time  \n",
       "0  0.000544  \n",
       "1  2.475186  \n",
       "2  0.000469  \n",
       "3  2.145465  "
      ]
     },
     "execution_count": 66,
     "metadata": {},
     "output_type": "execute_result"
    }
   ],
   "source": [
    "algorithms_parameters = [] # Liste erstellen\n",
    "\n",
    "# greedy (beachte: jeder Eintrag der Liste ist ein Tupel (algorithmus, parameter-dict )  )\n",
    "algorithms_parameters.append( ( tsp_greedy, { \"tour\" : [0] } ) ) \n",
    "\n",
    "algorithms_parameters.append( ( tsp_beam_search, { \"tour\" : [0],\n",
    "                                                  \"beam_width\": 500 } ) )\n",
    "\n",
    "instances = [\"berlin52\", \"gr48\"]\n",
    "\n",
    "results = run_algorithms_with_parameters_on_instances (instances, algorithms_parameters)\n",
    "\n",
    "df_results = pd.DataFrame(results)   \n",
    "df_results"
   ]
  },
  {
   "cell_type": "markdown",
   "metadata": {
    "slideshow": {
     "slide_type": "slide"
    }
   },
   "source": [
    "## Ergebnisse aufbereiten mit Pivot-Tabellen\n",
    "\n",
    "- die Ergebnistabelle von oben ist etwas redundant \n",
    "- was, wenn wir z.B. nur eine Zeile je Instanz haben wollen und für jeden Algorithmus eine Spalte?\n",
    "\n",
    "- derartige Umstellungen können wir mit so genannten Pivot-Tabellen machen:\n",
    "https://pandas.pydata.org/docs/reference/api/pandas.DataFrame.pivot.html\n",
    "\n"
   ]
  },
  {
   "cell_type": "code",
   "execution_count": 68,
   "metadata": {
    "slideshow": {
     "slide_type": "-"
    }
   },
   "outputs": [
    {
     "data": {
      "text/html": [
       "<div>\n",
       "<style scoped>\n",
       "    .dataframe tbody tr th:only-of-type {\n",
       "        vertical-align: middle;\n",
       "    }\n",
       "\n",
       "    .dataframe tbody tr th {\n",
       "        vertical-align: top;\n",
       "    }\n",
       "\n",
       "    .dataframe thead tr th {\n",
       "        text-align: left;\n",
       "    }\n",
       "\n",
       "    .dataframe thead tr:last-of-type th {\n",
       "        text-align: right;\n",
       "    }\n",
       "</style>\n",
       "<table border=\"1\" class=\"dataframe\">\n",
       "  <thead>\n",
       "    <tr>\n",
       "      <th></th>\n",
       "      <th colspan=\"2\" halign=\"left\">Objective</th>\n",
       "    </tr>\n",
       "    <tr>\n",
       "      <th>Algorithm</th>\n",
       "      <th>tsp_beam_search</th>\n",
       "      <th>tsp_greedy</th>\n",
       "    </tr>\n",
       "    <tr>\n",
       "      <th>Instance</th>\n",
       "      <th></th>\n",
       "      <th></th>\n",
       "    </tr>\n",
       "  </thead>\n",
       "  <tbody>\n",
       "    <tr>\n",
       "      <th>berlin52</th>\n",
       "      <td>8446.0</td>\n",
       "      <td>8980.0</td>\n",
       "    </tr>\n",
       "    <tr>\n",
       "      <th>gr48</th>\n",
       "      <td>6315.0</td>\n",
       "      <td>6098.0</td>\n",
       "    </tr>\n",
       "  </tbody>\n",
       "</table>\n",
       "</div>"
      ],
      "text/plain": [
       "                Objective           \n",
       "Algorithm tsp_beam_search tsp_greedy\n",
       "Instance                            \n",
       "berlin52           8446.0     8980.0\n",
       "gr48               6315.0     6098.0"
      ]
     },
     "execution_count": 68,
     "metadata": {},
     "output_type": "execute_result"
    }
   ],
   "source": [
    "df_pivot = df_results.pivot_table(index=\"Instance\", columns=\"Algorithm\", values=[\"Objective\"])\n",
    "df_pivot"
   ]
  },
  {
   "cell_type": "markdown",
   "metadata": {
    "slideshow": {
     "slide_type": "fragment"
    }
   },
   "source": [
    "...wir können auch zwei Arten von Ergebnissen nebeneinander Anzeigen:"
   ]
  },
  {
   "cell_type": "code",
   "execution_count": 69,
   "metadata": {
    "scrolled": true
   },
   "outputs": [
    {
     "data": {
      "text/html": [
       "<div>\n",
       "<style scoped>\n",
       "    .dataframe tbody tr th:only-of-type {\n",
       "        vertical-align: middle;\n",
       "    }\n",
       "\n",
       "    .dataframe tbody tr th {\n",
       "        vertical-align: top;\n",
       "    }\n",
       "\n",
       "    .dataframe thead tr th {\n",
       "        text-align: left;\n",
       "    }\n",
       "\n",
       "    .dataframe thead tr:last-of-type th {\n",
       "        text-align: right;\n",
       "    }\n",
       "</style>\n",
       "<table border=\"1\" class=\"dataframe\">\n",
       "  <thead>\n",
       "    <tr>\n",
       "      <th></th>\n",
       "      <th colspan=\"2\" halign=\"left\">Objective</th>\n",
       "      <th colspan=\"2\" halign=\"left\">Time</th>\n",
       "    </tr>\n",
       "    <tr>\n",
       "      <th>Algorithm</th>\n",
       "      <th>tsp_beam_search</th>\n",
       "      <th>tsp_greedy</th>\n",
       "      <th>tsp_beam_search</th>\n",
       "      <th>tsp_greedy</th>\n",
       "    </tr>\n",
       "    <tr>\n",
       "      <th>Instance</th>\n",
       "      <th></th>\n",
       "      <th></th>\n",
       "      <th></th>\n",
       "      <th></th>\n",
       "    </tr>\n",
       "  </thead>\n",
       "  <tbody>\n",
       "    <tr>\n",
       "      <th>berlin52</th>\n",
       "      <td>8446.0</td>\n",
       "      <td>8980.0</td>\n",
       "      <td>2.475186</td>\n",
       "      <td>0.000544</td>\n",
       "    </tr>\n",
       "    <tr>\n",
       "      <th>gr48</th>\n",
       "      <td>6315.0</td>\n",
       "      <td>6098.0</td>\n",
       "      <td>2.145465</td>\n",
       "      <td>0.000469</td>\n",
       "    </tr>\n",
       "  </tbody>\n",
       "</table>\n",
       "</div>"
      ],
      "text/plain": [
       "                Objective                       Time           \n",
       "Algorithm tsp_beam_search tsp_greedy tsp_beam_search tsp_greedy\n",
       "Instance                                                       \n",
       "berlin52           8446.0     8980.0        2.475186   0.000544\n",
       "gr48               6315.0     6098.0        2.145465   0.000469"
      ]
     },
     "execution_count": 69,
     "metadata": {},
     "output_type": "execute_result"
    }
   ],
   "source": [
    "df_pivot = df_results.pivot_table(index=\"Instance\", columns=\"Algorithm\", values=[\"Objective\", \"Time\"])\n",
    "df_pivot"
   ]
  },
  {
   "cell_type": "markdown",
   "metadata": {
    "slideshow": {
     "slide_type": "fragment"
    }
   },
   "source": [
    "..oder die Mittelwerte der Zeilen und Spalten mit anzeigen lassen"
   ]
  },
  {
   "cell_type": "code",
   "execution_count": 70,
   "metadata": {
    "scrolled": true,
    "slideshow": {
     "slide_type": "-"
    }
   },
   "outputs": [
    {
     "data": {
      "text/html": [
       "<div>\n",
       "<style scoped>\n",
       "    .dataframe tbody tr th:only-of-type {\n",
       "        vertical-align: middle;\n",
       "    }\n",
       "\n",
       "    .dataframe tbody tr th {\n",
       "        vertical-align: top;\n",
       "    }\n",
       "\n",
       "    .dataframe thead tr th {\n",
       "        text-align: left;\n",
       "    }\n",
       "\n",
       "    .dataframe thead tr:last-of-type th {\n",
       "        text-align: right;\n",
       "    }\n",
       "</style>\n",
       "<table border=\"1\" class=\"dataframe\">\n",
       "  <thead>\n",
       "    <tr>\n",
       "      <th></th>\n",
       "      <th colspan=\"3\" halign=\"left\">Time</th>\n",
       "    </tr>\n",
       "    <tr>\n",
       "      <th>Algorithm</th>\n",
       "      <th>tsp_beam_search</th>\n",
       "      <th>tsp_greedy</th>\n",
       "      <th>All</th>\n",
       "    </tr>\n",
       "    <tr>\n",
       "      <th>Instance</th>\n",
       "      <th></th>\n",
       "      <th></th>\n",
       "      <th></th>\n",
       "    </tr>\n",
       "  </thead>\n",
       "  <tbody>\n",
       "    <tr>\n",
       "      <th>berlin52</th>\n",
       "      <td>2.475186</td>\n",
       "      <td>0.000544</td>\n",
       "      <td>1.237865</td>\n",
       "    </tr>\n",
       "    <tr>\n",
       "      <th>gr48</th>\n",
       "      <td>2.145465</td>\n",
       "      <td>0.000469</td>\n",
       "      <td>1.072967</td>\n",
       "    </tr>\n",
       "    <tr>\n",
       "      <th>All</th>\n",
       "      <td>2.310326</td>\n",
       "      <td>0.000507</td>\n",
       "      <td>1.155416</td>\n",
       "    </tr>\n",
       "  </tbody>\n",
       "</table>\n",
       "</div>"
      ],
      "text/plain": [
       "                     Time                     \n",
       "Algorithm tsp_beam_search tsp_greedy       All\n",
       "Instance                                      \n",
       "berlin52         2.475186   0.000544  1.237865\n",
       "gr48             2.145465   0.000469  1.072967\n",
       "All              2.310326   0.000507  1.155416"
      ]
     },
     "execution_count": 70,
     "metadata": {},
     "output_type": "execute_result"
    }
   ],
   "source": [
    "df_pivot = df_results.pivot_table(index=\"Instance\", columns=\"Algorithm\", values=[\"Time\"], margins=True)\n",
    "df_pivot"
   ]
  },
  {
   "cell_type": "markdown",
   "metadata": {
    "slideshow": {
     "slide_type": "slide"
    }
   },
   "source": [
    "## Ausgabe in LaTeX-Tabelle\n",
    "- falls Sie LaTeX nutzen, können Sie direkt LaTeX-Code zur Darstellung der Tabelle erzeugen:"
   ]
  },
  {
   "cell_type": "code",
   "execution_count": 39,
   "metadata": {
    "scrolled": false,
    "slideshow": {
     "slide_type": "slide"
    }
   },
   "outputs": [
    {
     "name": "stdout",
     "output_type": "stream",
     "text": [
      "\\begin{tabular}{lrrr}\n",
      "\\toprule\n",
      "{} & \\multicolumn{3}{l}{Time} \\\\\n",
      "Algorithm & tsp\\_beam\\_search & tsp\\_greedy &       All \\\\\n",
      "Instance &                 &            &           \\\\\n",
      "\\midrule\n",
      "berlin52 &        3.961152 &   0.000799 &  1.980975 \\\\\n",
      "gr48     &        3.388942 &   0.000580 &  1.694761 \\\\\n",
      "All      &        3.675047 &   0.000690 &  1.837868 \\\\\n",
      "\\bottomrule\n",
      "\\end{tabular}\n",
      "\n"
     ]
    },
    {
     "name": "stderr",
     "output_type": "stream",
     "text": [
      "C:\\Users\\mroemer\\AppData\\Local\\Temp\\ipykernel_21052\\3636991984.py:1: FutureWarning: In future versions `DataFrame.to_latex` is expected to utilise the base implementation of `Styler.to_latex` for formatting and rendering. The arguments signature may therefore change. It is recommended instead to use `DataFrame.style.to_latex` which also contains additional functionality.\n",
      "  print(df_pivot.to_latex())\n"
     ]
    }
   ],
   "source": [
    "print(df_pivot.to_latex())"
   ]
  },
  {
   "cell_type": "markdown",
   "metadata": {
    "slideshow": {
     "slide_type": "slide"
    }
   },
   "source": [
    "## Schreiben in und Lesen aus Dateien\n",
    "\n",
    "- oftmals können nicht alle Experimente und Auswertungen am Stück durchgeführt werden\n",
    "- weiterhin möchte man häufig später weitere Analysen machen und die Auswertungen auch später noch nachvollziehen können\n",
    "- mit dataframes geht das sehr leicht:"
   ]
  },
  {
   "cell_type": "markdown",
   "metadata": {
    "slideshow": {
     "slide_type": "fragment"
    }
   },
   "source": [
    "- schreiben des (ursprünglichen) data frames in eine Datei:"
   ]
  },
  {
   "cell_type": "code",
   "execution_count": 71,
   "metadata": {
    "slideshow": {
     "slide_type": "-"
    }
   },
   "outputs": [],
   "source": [
    "file_name = \"results.txt\"\n",
    "df_results.to_csv(file_name, index=False) # csv heisst comma-separated values"
   ]
  },
  {
   "cell_type": "markdown",
   "metadata": {
    "slideshow": {
     "slide_type": "fragment"
    }
   },
   "source": [
    "- einlesen in ein Data Frame:"
   ]
  },
  {
   "cell_type": "markdown",
   "metadata": {
    "slideshow": {
     "slide_type": "slide"
    }
   },
   "source": [
    "## Beispiel für ein einheitliches Qualitätsmaß: Der Gap zur optimalen Lösung\n",
    "\n",
    "- wenn wir Instanzen mit unterschiedlich skalierten Zielfunktionswerten (Distanzen) haben, sind Ergebnisse nur schwer einheitlich zu vergleichen bzw. aggregiert zu betrachten\n",
    "- besser ist es daher oft, die relative Performance eines Algorithmus zu einer Bezugsgröße zu betrachten, z.B.:\n",
    "  - eine optimale Lösung\n",
    "  - die Lösung eines anderen Algorithmus\n",
    "\n",
    "Da wir die optimalen Lösungen kennen, können wir diese in einem dict speichern:"
   ]
  },
  {
   "cell_type": "code",
   "execution_count": 72,
   "metadata": {
    "slideshow": {
     "slide_type": "-"
    }
   },
   "outputs": [],
   "source": [
    "instance_optimal_value = {\"gr48\":5046, \"brazil58\":25395, \"berlin52\":7542}"
   ]
  },
  {
   "cell_type": "markdown",
   "metadata": {},
   "source": [
    "..und dann berechen wir den relativen Gap (den relativen Abstand zur optimalen Lösung):\n",
    "- wir nutzen dazu den optimalen Wert als Grundlage, durch den wir die Differenz aus der gefundenen und der optimalen Lösung teilen\n",
    "- wenn wir die optimale Lösung finden, ist der Gap 0 %"
   ]
  },
  {
   "cell_type": "code",
   "execution_count": 73,
   "metadata": {
    "slideshow": {
     "slide_type": "-"
    }
   },
   "outputs": [],
   "source": [
    "def get_opt_gap(objective_value, instance_name):\n",
    "    return (objective_value - instance_optimal_value[instance_name]) / instance_optimal_value[instance_name]\n"
   ]
  },
  {
   "cell_type": "markdown",
   "metadata": {
    "slideshow": {
     "slide_type": "fragment"
    }
   },
   "source": [
    "Beispiel:\n"
   ]
  },
  {
   "cell_type": "code",
   "execution_count": 74,
   "metadata": {},
   "outputs": [
    {
     "name": "stdout",
     "output_type": "stream",
     "text": [
      "Greedy  8980\n",
      "Optimal  7542\n",
      "Gap  0.19066560594006896\n"
     ]
    }
   ],
   "source": [
    "parameters = { \"tour\" : [0]}\n",
    "result = run_algorithm_with_parameters(\"berlin52\", tsp_greedy, parameters)\n",
    "print(\"Greedy \", result[\"Objective\"])\n",
    "\n",
    "print(\"Optimal \",  instance_optimal_value[\"berlin52\"])\n",
    "\n",
    "print(\"Gap \", get_opt_gap(result[\"Objective\"], \"berlin52\"))"
   ]
  },
  {
   "cell_type": "markdown",
   "metadata": {},
   "source": [
    "## Einbau des Optimality Gap in die Auswertungs-Funktion:\n",
    "\n",
    "\n"
   ]
  },
  {
   "cell_type": "code",
   "execution_count": 85,
   "metadata": {
    "slideshow": {
     "slide_type": "-"
    }
   },
   "outputs": [],
   "source": [
    "def run_algorithm_with_parameters(instance_name, function_algorithm, algorithm_parameters):\n",
    "    \n",
    "    ## hier ggf den Dateipfad anpassen\n",
    "    tsplib_file = instances_path +  instance_name +\".tsp\" # \n",
    "    distance_matrix = tsplib_distance_matrix(tsplib_file)  \n",
    "\n",
    "    # ausführen\n",
    "    starttime = timer()    \n",
    "    permutation, distance = function_algorithm(distance_matrix, **algorithm_parameters)\n",
    "    \n",
    "    result_dict = {}\n",
    "    result_dict[\"Instance\"] = instance_name\n",
    "    result_dict[\"Algorithm\"] = function_algorithm.__name__\n",
    "    result_dict[\"Parameters\"] = algorithm_parameters\n",
    "    result_dict[\"Objective\"] = distance\n",
    "    result_dict[\"OptGap\"] = get_opt_gap(distance, instance_name)\n",
    "    result_dict[\"Time\"] = timer()- starttime\n",
    "    \n",
    "    return result_dict\n",
    "    "
   ]
  },
  {
   "cell_type": "markdown",
   "metadata": {
    "slideshow": {
     "slide_type": "slide"
    }
   },
   "source": [
    "## Untersuchen der Auswirkung von Parametern \n",
    "\n",
    "- viele komplexere Algorithmen haben **Parameter**, die ihr Verhalten beeinflussen, z.B.\n",
    "   - Startort beim Nearest Neighbor\n",
    "   - Breite (beam_width) beim Beam Search\n",
    "   - Anzahl an betrachteten Nachbarn bei limitierter Anwendung informierter Suche\n",
    "- oftmals ist es interessant, die Auswirkung der wesentlichen Parameter auf Ergebnis und Laufzeit zu untersuchen!\n",
    "\n"
   ]
  },
  {
   "cell_type": "markdown",
   "metadata": {
    "slideshow": {
     "slide_type": "slide"
    }
   },
   "source": [
    "## Anpassung der Run Algorithm-Funktion\n",
    "\n",
    "- wir wollen nun, dass für alle Parameter ein eigener Wert angelegt wird\n",
    "- wir passsen die Funktion `run_algorithm_with_parameters` entsprechend an:"
   ]
  },
  {
   "cell_type": "code",
   "execution_count": 84,
   "metadata": {
    "slideshow": {
     "slide_type": "-"
    }
   },
   "outputs": [],
   "source": [
    "def run_algorithm_with_parameters(instance_name, function_algorithm, algorithm_parameters):\n",
    "    \n",
    "    ## hier ggf den Dateipfad anpassen\n",
    "    tsplib_file = \"./../instances/tsp/\" + instance_name +\".tsp\" # \n",
    "    distance_matrix = tsplib_distance_matrix(tsplib_file)  \n",
    "\n",
    "    # ausführen\n",
    "    starttime = timer()    \n",
    "    permutation, distance = function_algorithm(distance_matrix, **algorithm_parameters)\n",
    "    \n",
    "    result_dict = {}\n",
    "    result_dict[\"Instance\"] = instance_name\n",
    "    result_dict[\"Algorithm\"] = function_algorithm.__name__\n",
    "    \n",
    "    ## hier wird ein einzelnes Feld für jeden Parameter angelegt ausser für den Tour-Parameter:\n",
    "    for name, value in algorithm_parameters.items():\n",
    "        if name != \"tour\":\n",
    "             result_dict[name] = value        \n",
    "   \n",
    "    result_dict[\"Objective\"] = distance\n",
    "    result_dict[\"OptGap\"] = get_opt_gap(distance, instance_name)\n",
    "    result_dict[\"Time\"] = timer()- starttime\n",
    "    \n",
    "    return result_dict\n",
    "    "
   ]
  },
  {
   "cell_type": "markdown",
   "metadata": {
    "slideshow": {
     "slide_type": "fragment"
    }
   },
   "source": [
    ".. nun können wir das z.B. für Beam Search ausprobieren:"
   ]
  },
  {
   "cell_type": "code",
   "execution_count": 87,
   "metadata": {
    "slideshow": {
     "slide_type": "-"
    }
   },
   "outputs": [
    {
     "data": {
      "text/html": [
       "<div>\n",
       "<style scoped>\n",
       "    .dataframe tbody tr th:only-of-type {\n",
       "        vertical-align: middle;\n",
       "    }\n",
       "\n",
       "    .dataframe tbody tr th {\n",
       "        vertical-align: top;\n",
       "    }\n",
       "\n",
       "    .dataframe thead th {\n",
       "        text-align: right;\n",
       "    }\n",
       "</style>\n",
       "<table border=\"1\" class=\"dataframe\">\n",
       "  <thead>\n",
       "    <tr style=\"text-align: right;\">\n",
       "      <th></th>\n",
       "      <th>Instance</th>\n",
       "      <th>Algorithm</th>\n",
       "      <th>Parameters</th>\n",
       "      <th>Objective</th>\n",
       "      <th>OptGap</th>\n",
       "      <th>Time</th>\n",
       "    </tr>\n",
       "  </thead>\n",
       "  <tbody>\n",
       "    <tr>\n",
       "      <th>0</th>\n",
       "      <td>berlin52</td>\n",
       "      <td>tsp_beam_search</td>\n",
       "      <td>{'tour': [0], 'beam_width': 1}</td>\n",
       "      <td>8980</td>\n",
       "      <td>0.190666</td>\n",
       "      <td>0.002845</td>\n",
       "    </tr>\n",
       "    <tr>\n",
       "      <th>1</th>\n",
       "      <td>berlin52</td>\n",
       "      <td>tsp_beam_search</td>\n",
       "      <td>{'tour': [0], 'beam_width': 10}</td>\n",
       "      <td>9423</td>\n",
       "      <td>0.249403</td>\n",
       "      <td>0.026613</td>\n",
       "    </tr>\n",
       "    <tr>\n",
       "      <th>2</th>\n",
       "      <td>berlin52</td>\n",
       "      <td>tsp_beam_search</td>\n",
       "      <td>{'tour': [0], 'beam_width': 50}</td>\n",
       "      <td>9497</td>\n",
       "      <td>0.259215</td>\n",
       "      <td>0.212229</td>\n",
       "    </tr>\n",
       "    <tr>\n",
       "      <th>3</th>\n",
       "      <td>berlin52</td>\n",
       "      <td>tsp_beam_search</td>\n",
       "      <td>{'tour': [0], 'beam_width': 100}</td>\n",
       "      <td>9846</td>\n",
       "      <td>0.305489</td>\n",
       "      <td>0.279001</td>\n",
       "    </tr>\n",
       "    <tr>\n",
       "      <th>4</th>\n",
       "      <td>berlin52</td>\n",
       "      <td>tsp_beam_search</td>\n",
       "      <td>{'tour': [0], 'beam_width': 500}</td>\n",
       "      <td>8446</td>\n",
       "      <td>0.119862</td>\n",
       "      <td>2.402138</td>\n",
       "    </tr>\n",
       "  </tbody>\n",
       "</table>\n",
       "</div>"
      ],
      "text/plain": [
       "   Instance        Algorithm                        Parameters  Objective  \\\n",
       "0  berlin52  tsp_beam_search    {'tour': [0], 'beam_width': 1}       8980   \n",
       "1  berlin52  tsp_beam_search   {'tour': [0], 'beam_width': 10}       9423   \n",
       "2  berlin52  tsp_beam_search   {'tour': [0], 'beam_width': 50}       9497   \n",
       "3  berlin52  tsp_beam_search  {'tour': [0], 'beam_width': 100}       9846   \n",
       "4  berlin52  tsp_beam_search  {'tour': [0], 'beam_width': 500}       8446   \n",
       "\n",
       "     OptGap      Time  \n",
       "0  0.190666  0.002845  \n",
       "1  0.249403  0.026613  \n",
       "2  0.259215  0.212229  \n",
       "3  0.305489  0.279001  \n",
       "4  0.119862  2.402138  "
      ]
     },
     "execution_count": 87,
     "metadata": {},
     "output_type": "execute_result"
    }
   ],
   "source": [
    "results = []\n",
    "algorithm_parameters = {\"tour\" : [0], \"beam_width\" : 1}\n",
    "\n",
    "for beam_width in [1,10,50,100,500]:\n",
    "    algorithm_parameters[\"beam_width\"] = beam_width\n",
    "    results.append(run_algorithm_with_parameters(\"berlin52\", tsp_beam_search, algorithm_parameters.copy()))\n",
    "    \n",
    "\n",
    "pd.DataFrame(results) \n",
    "    "
   ]
  },
  {
   "cell_type": "markdown",
   "metadata": {
    "slideshow": {
     "slide_type": "slide"
    }
   },
   "source": [
    "## Zusammenfassung\n",
    "\n",
    "Heute haben wir einige Techniken zum Experimentieren kennengelernt:\n",
    "- Aufrufen mehrerer Instanzen und Algorithmen\n",
    "- Datenstrukturen für Ergebnisse\n",
    "- Aufbereiten der Ergebnisse mit data frames\n",
    "- Speichern von Ergebnissen in Dateien\n",
    "- Auslesen von Ergebnissen aus Dateien\n",
    "\n",
    "\n",
    "**Bitte beachten Sie:**\n",
    "- Sie können natürlich auch anders arbeiten, z.B. direkt in Dateien schreiben\n",
    "- Hier haben wir nur zwei Instanzen genutzt - es wäre schön, wenn Sie (deutlich) mehr Instanzen für Ihre Experimente nutzen würden!"
   ]
  }
 ],
 "metadata": {
  "celltoolbar": "Slideshow",
  "kernelspec": {
   "display_name": "Python [conda env:audprojekt2024]",
   "language": "python",
   "name": "conda-env-audprojekt2024-py"
  },
  "language_info": {
   "codemirror_mode": {
    "name": "ipython",
    "version": 3
   },
   "file_extension": ".py",
   "mimetype": "text/x-python",
   "name": "python",
   "nbconvert_exporter": "python",
   "pygments_lexer": "ipython3",
   "version": "3.12.2"
  },
  "toc": {
   "base_numbering": 1,
   "nav_menu": {},
   "number_sections": false,
   "sideBar": true,
   "skip_h1_title": false,
   "title_cell": "Table of Contents",
   "title_sidebar": "Contents",
   "toc_cell": false,
   "toc_position": {},
   "toc_section_display": true,
   "toc_window_display": false
  },
  "varInspector": {
   "cols": {
    "lenName": 16,
    "lenType": 16,
    "lenVar": 40
   },
   "kernels_config": {
    "python": {
     "delete_cmd_postfix": "",
     "delete_cmd_prefix": "del ",
     "library": "var_list.py",
     "varRefreshCmd": "print(var_dic_list())"
    },
    "r": {
     "delete_cmd_postfix": ") ",
     "delete_cmd_prefix": "rm(",
     "library": "var_list.r",
     "varRefreshCmd": "cat(var_dic_list()) "
    }
   },
   "types_to_exclude": [
    "module",
    "function",
    "builtin_function_or_method",
    "instance",
    "_Feature"
   ],
   "window_display": false
  }
 },
 "nbformat": 4,
 "nbformat_minor": 4
}
